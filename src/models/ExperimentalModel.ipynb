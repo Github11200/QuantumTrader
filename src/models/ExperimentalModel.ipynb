{
 "cells": [
  {
   "cell_type": "code",
   "execution_count": 659,
   "metadata": {},
   "outputs": [
    {
     "data": {
      "text/plain": [
       "'cuda'"
      ]
     },
     "execution_count": 659,
     "metadata": {},
     "output_type": "execute_result"
    }
   ],
   "source": [
    "import torch\n",
    "import numpy as np\n",
    "import pandas as pd\n",
    "import matplotlib.pyplot as plt\n",
    "import yfinance as yf\n",
    "\n",
    "torch.manual_seed(42)\n",
    "torch.cuda.manual_seed(42)\n",
    "\n",
    "device = \"cuda\" if torch.cuda.is_available() else \"cpu\"\n",
    "device"
   ]
  },
  {
   "cell_type": "code",
   "execution_count": 660,
   "metadata": {},
   "outputs": [
    {
     "name": "stderr",
     "output_type": "stream",
     "text": [
      "[*********************100%%**********************]  1 of 1 completed\n",
      "/tmp/ipykernel_102055/3964589509.py:4: FutureWarning: DataFrame.fillna with 'method' is deprecated and will raise in a future version. Use obj.ffill() or obj.bfill() instead.\n",
      "  apple_data.fillna(method=\"pad\")\n"
     ]
    },
    {
     "data": {
      "text/html": [
       "<div>\n",
       "<style scoped>\n",
       "    .dataframe tbody tr th:only-of-type {\n",
       "        vertical-align: middle;\n",
       "    }\n",
       "\n",
       "    .dataframe tbody tr th {\n",
       "        vertical-align: top;\n",
       "    }\n",
       "\n",
       "    .dataframe thead th {\n",
       "        text-align: right;\n",
       "    }\n",
       "</style>\n",
       "<table border=\"1\" class=\"dataframe\">\n",
       "  <thead>\n",
       "    <tr style=\"text-align: right;\">\n",
       "      <th></th>\n",
       "      <th>Open</th>\n",
       "      <th>High</th>\n",
       "      <th>Low</th>\n",
       "      <th>Close</th>\n",
       "      <th>Adj Close</th>\n",
       "      <th>Volume</th>\n",
       "    </tr>\n",
       "    <tr>\n",
       "      <th>Date</th>\n",
       "      <th></th>\n",
       "      <th></th>\n",
       "      <th></th>\n",
       "      <th></th>\n",
       "      <th></th>\n",
       "      <th></th>\n",
       "    </tr>\n",
       "  </thead>\n",
       "  <tbody>\n",
       "    <tr>\n",
       "      <th>1962-01-02</th>\n",
       "      <td>7.374124</td>\n",
       "      <td>7.374124</td>\n",
       "      <td>7.291268</td>\n",
       "      <td>7.291268</td>\n",
       "      <td>1.541711</td>\n",
       "      <td>407940</td>\n",
       "    </tr>\n",
       "    <tr>\n",
       "      <th>1962-01-03</th>\n",
       "      <td>7.291268</td>\n",
       "      <td>7.355003</td>\n",
       "      <td>7.291268</td>\n",
       "      <td>7.355003</td>\n",
       "      <td>1.555187</td>\n",
       "      <td>305955</td>\n",
       "    </tr>\n",
       "    <tr>\n",
       "      <th>1962-01-04</th>\n",
       "      <td>7.355003</td>\n",
       "      <td>7.355003</td>\n",
       "      <td>7.278521</td>\n",
       "      <td>7.281708</td>\n",
       "      <td>1.539688</td>\n",
       "      <td>274575</td>\n",
       "    </tr>\n",
       "    <tr>\n",
       "      <th>1962-01-05</th>\n",
       "      <td>7.272148</td>\n",
       "      <td>7.272148</td>\n",
       "      <td>7.125558</td>\n",
       "      <td>7.138305</td>\n",
       "      <td>1.509367</td>\n",
       "      <td>384405</td>\n",
       "    </tr>\n",
       "    <tr>\n",
       "      <th>1962-01-08</th>\n",
       "      <td>7.131931</td>\n",
       "      <td>7.131931</td>\n",
       "      <td>6.947100</td>\n",
       "      <td>7.004461</td>\n",
       "      <td>1.481068</td>\n",
       "      <td>572685</td>\n",
       "    </tr>\n",
       "    <tr>\n",
       "      <th>...</th>\n",
       "      <td>...</td>\n",
       "      <td>...</td>\n",
       "      <td>...</td>\n",
       "      <td>...</td>\n",
       "      <td>...</td>\n",
       "      <td>...</td>\n",
       "    </tr>\n",
       "    <tr>\n",
       "      <th>2024-03-18</th>\n",
       "      <td>191.699997</td>\n",
       "      <td>193.229996</td>\n",
       "      <td>190.320007</td>\n",
       "      <td>191.690002</td>\n",
       "      <td>191.690002</td>\n",
       "      <td>5410600</td>\n",
       "    </tr>\n",
       "    <tr>\n",
       "      <th>2024-03-19</th>\n",
       "      <td>191.490005</td>\n",
       "      <td>193.580002</td>\n",
       "      <td>190.279999</td>\n",
       "      <td>193.339996</td>\n",
       "      <td>193.339996</td>\n",
       "      <td>5317300</td>\n",
       "    </tr>\n",
       "    <tr>\n",
       "      <th>2024-03-20</th>\n",
       "      <td>192.869995</td>\n",
       "      <td>193.979996</td>\n",
       "      <td>191.309998</td>\n",
       "      <td>193.960007</td>\n",
       "      <td>193.960007</td>\n",
       "      <td>3238600</td>\n",
       "    </tr>\n",
       "    <tr>\n",
       "      <th>2024-03-21</th>\n",
       "      <td>193.000000</td>\n",
       "      <td>193.369995</td>\n",
       "      <td>190.009995</td>\n",
       "      <td>191.899994</td>\n",
       "      <td>191.899994</td>\n",
       "      <td>6013600</td>\n",
       "    </tr>\n",
       "    <tr>\n",
       "      <th>2024-03-22</th>\n",
       "      <td>192.000000</td>\n",
       "      <td>192.990005</td>\n",
       "      <td>190.509995</td>\n",
       "      <td>190.839996</td>\n",
       "      <td>190.839996</td>\n",
       "      <td>3987700</td>\n",
       "    </tr>\n",
       "  </tbody>\n",
       "</table>\n",
       "<p>15663 rows × 6 columns</p>\n",
       "</div>"
      ],
      "text/plain": [
       "                  Open        High         Low       Close   Adj Close  \\\n",
       "Date                                                                     \n",
       "1962-01-02    7.374124    7.374124    7.291268    7.291268    1.541711   \n",
       "1962-01-03    7.291268    7.355003    7.291268    7.355003    1.555187   \n",
       "1962-01-04    7.355003    7.355003    7.278521    7.281708    1.539688   \n",
       "1962-01-05    7.272148    7.272148    7.125558    7.138305    1.509367   \n",
       "1962-01-08    7.131931    7.131931    6.947100    7.004461    1.481068   \n",
       "...                ...         ...         ...         ...         ...   \n",
       "2024-03-18  191.699997  193.229996  190.320007  191.690002  191.690002   \n",
       "2024-03-19  191.490005  193.580002  190.279999  193.339996  193.339996   \n",
       "2024-03-20  192.869995  193.979996  191.309998  193.960007  193.960007   \n",
       "2024-03-21  193.000000  193.369995  190.009995  191.899994  191.899994   \n",
       "2024-03-22  192.000000  192.990005  190.509995  190.839996  190.839996   \n",
       "\n",
       "             Volume  \n",
       "Date                 \n",
       "1962-01-02   407940  \n",
       "1962-01-03   305955  \n",
       "1962-01-04   274575  \n",
       "1962-01-05   384405  \n",
       "1962-01-08   572685  \n",
       "...             ...  \n",
       "2024-03-18  5410600  \n",
       "2024-03-19  5317300  \n",
       "2024-03-20  3238600  \n",
       "2024-03-21  6013600  \n",
       "2024-03-22  3987700  \n",
       "\n",
       "[15663 rows x 6 columns]"
      ]
     },
     "execution_count": 660,
     "metadata": {},
     "output_type": "execute_result"
    }
   ],
   "source": [
    "apple_data = yf.download(\"IBM\", period=\"max\", interval=\"1d\")\n",
    "apple_data.dropna()\n",
    "apple_data.reset_index()\n",
    "apple_data.fillna(method=\"pad\")\n",
    "apple_data"
   ]
  },
  {
   "cell_type": "code",
   "execution_count": 661,
   "metadata": {},
   "outputs": [
    {
     "data": {
      "text/plain": [
       "array([[  7.29126787],\n",
       "       [  7.35500288],\n",
       "       [  7.28170776],\n",
       "       ...,\n",
       "       [193.96000671],\n",
       "       [191.8999939 ],\n",
       "       [190.83999634]])"
      ]
     },
     "execution_count": 661,
     "metadata": {},
     "output_type": "execute_result"
    }
   ],
   "source": [
    "apple_data = apple_data[[\"Close\"]]\n",
    "apple_data.values"
   ]
  },
  {
   "cell_type": "code",
   "execution_count": 662,
   "metadata": {},
   "outputs": [],
   "source": [
    "from sklearn.preprocessing import MinMaxScaler\n",
    "\n",
    "apple_data = apple_data.ffill()\n",
    "scaler = MinMaxScaler(feature_range=(-1, 1))\n",
    "apple_data[[\"Close\"]] = scaler.fit_transform(apple_data[[\"Close\"]].values)"
   ]
  },
  {
   "cell_type": "code",
   "execution_count": 663,
   "metadata": {},
   "outputs": [
    {
     "data": {
      "text/plain": [
       "array([[-0.96649664],\n",
       "       [-0.96586688],\n",
       "       [-0.9665911 ],\n",
       "       ...,\n",
       "       [ 0.87797246],\n",
       "       [ 0.85761753],\n",
       "       [ 0.84714372]])"
      ]
     },
     "execution_count": 663,
     "metadata": {},
     "output_type": "execute_result"
    }
   ],
   "source": [
    "apple_data.values"
   ]
  },
  {
   "cell_type": "code",
   "execution_count": 664,
   "metadata": {},
   "outputs": [],
   "source": [
    "def load_data(stock, look_back):\n",
    "    data_raw = stock.values # convert to numpy array\n",
    "    data = []\n",
    "    \n",
    "    # create all possible sequences of length look_back\n",
    "    for index in range(len(data_raw) - look_back): \n",
    "        data.append(data_raw[index: index + look_back])\n",
    "    \n",
    "    data = np.array(data);\n",
    "    test_set_size = int(np.round(0.2*data.shape[0]));\n",
    "    train_set_size = data.shape[0] - (test_set_size);\n",
    "    \n",
    "    x_train = data[:train_set_size,:-1,:]\n",
    "    y_train = data[:train_set_size,-1,:]\n",
    "    \n",
    "    x_test = data[train_set_size:,:-1]\n",
    "    y_test = data[train_set_size:,-1,:]\n",
    "    \n",
    "    return [x_train, y_train, x_test, y_test]\n",
    "\n",
    "SEQUENCE_LENGTH = 14\n",
    "x_train, y_train, x_test, y_test = load_data(apple_data, SEQUENCE_LENGTH)"
   ]
  },
  {
   "cell_type": "code",
   "execution_count": 665,
   "metadata": {},
   "outputs": [
    {
     "data": {
      "text/plain": [
       "((12519, 13, 1), (12519, 1), (3130, 13, 1), (3130, 1))"
      ]
     },
     "execution_count": 665,
     "metadata": {},
     "output_type": "execute_result"
    }
   ],
   "source": [
    "x_train.shape, y_train.shape, x_test.shape, y_test.shape"
   ]
  },
  {
   "cell_type": "code",
   "execution_count": 666,
   "metadata": {},
   "outputs": [],
   "source": [
    "torch.manual_seed(42)\n",
    "torch.cuda.manual_seed(42)\n",
    "\n",
    "x_train = torch.from_numpy(x_train).type(torch.Tensor).to(device=device)\n",
    "y_train = torch.from_numpy(y_train).type(torch.Tensor).to(device=device)\n",
    "x_test = torch.from_numpy(x_test).type(torch.Tensor).to(device=device)\n",
    "y_test = torch.from_numpy(y_test).type(torch.Tensor).to(device=device)"
   ]
  },
  {
   "cell_type": "code",
   "execution_count": 667,
   "metadata": {},
   "outputs": [],
   "source": [
    "from torch import nn"
   ]
  },
  {
   "cell_type": "code",
   "execution_count": 668,
   "metadata": {},
   "outputs": [
    {
     "data": {
      "text/plain": [
       "GRU(\n",
       "  (gru): GRU(1, 128, num_layers=2, batch_first=True)\n",
       "  (fc): Linear(in_features=128, out_features=1, bias=True)\n",
       ")"
      ]
     },
     "execution_count": 668,
     "metadata": {},
     "output_type": "execute_result"
    }
   ],
   "source": [
    "torch.manual_seed(42)\n",
    "torch.cuda.manual_seed(42)\n",
    "\n",
    "INPUT_DIM = 1\n",
    "HIDDEN_DIM = 128\n",
    "NUMBER_OF_LAYERS = 2\n",
    "OUTPUT_DIM = 1\n",
    "\n",
    "class GRU(nn.Module):\n",
    "    def __init__(self, input_dim, hidden_dim, num_layers, output_dim):\n",
    "        super(GRU, self).__init__()\n",
    "\n",
    "        self.hidden_dimensions = hidden_dim\n",
    "        self.number_of_layers = num_layers\n",
    "        \n",
    "        self.gru = nn.GRU(input_size=input_dim, hidden_size=hidden_dim, num_layers=num_layers, batch_first=True)\n",
    "        self.fc = nn.Linear(in_features=hidden_dim, out_features=output_dim)\n",
    "    \n",
    "    def forward(self, x):\n",
    "        # Initialize the hidden state with zeros\n",
    "        h0 = torch.zeros(self.number_of_layers, x.size(0), self.hidden_dimensions).requires_grad_().to(device=device)\n",
    "\n",
    "        out, _ = self.gru(x, h0)\n",
    "\n",
    "        # out.size() --> 100, 32, 100\n",
    "        # out[:, -1, :] --> 100, 100\n",
    "        out = self.fc(out[:, -1, :])\n",
    "        \n",
    "        return out\n",
    "\n",
    "model_0 = GRU(input_dim=INPUT_DIM, hidden_dim=HIDDEN_DIM, output_dim=OUTPUT_DIM, num_layers=NUMBER_OF_LAYERS).to(device=device)\n",
    "model_0"
   ]
  },
  {
   "cell_type": "code",
   "execution_count": 669,
   "metadata": {},
   "outputs": [],
   "source": [
    "loss_fn = nn.MSELoss()\n",
    "optimizer = torch.optim.Adam(model_0.parameters(), lr=0.01)"
   ]
  },
  {
   "cell_type": "code",
   "execution_count": 670,
   "metadata": {},
   "outputs": [
    {
     "data": {
      "text/plain": [
       "torch.Size([12519, 13, 1])"
      ]
     },
     "execution_count": 670,
     "metadata": {},
     "output_type": "execute_result"
    }
   ],
   "source": [
    "x_train.size()"
   ]
  },
  {
   "cell_type": "code",
   "execution_count": 671,
   "metadata": {},
   "outputs": [
    {
     "name": "stdout",
     "output_type": "stream",
     "text": [
      "Epoch: 0 | Loss: 0.563005805015564 | Test Loss: 1.0537073612213135\n"
     ]
    },
    {
     "name": "stdout",
     "output_type": "stream",
     "text": [
      "Epoch: 10 | Loss: 0.05891474708914757 | Test Loss: 0.09006887674331665\n",
      "Epoch: 20 | Loss: 0.012745080515742302 | Test Loss: 0.025286830961704254\n",
      "Epoch: 30 | Loss: 0.0048583191819489 | Test Loss: 0.015774300321936607\n",
      "Epoch: 40 | Loss: 0.002292109653353691 | Test Loss: 0.02443661354482174\n",
      "Epoch: 50 | Loss: 0.0009008829365484416 | Test Loss: 0.0013694214867427945\n",
      "Epoch: 60 | Loss: 0.00036466788151301444 | Test Loss: 0.0024607127998024225\n",
      "Epoch: 70 | Loss: 0.0002597456914372742 | Test Loss: 0.002019815379753709\n",
      "Epoch: 80 | Loss: 0.00027345895068719983 | Test Loss: 0.002032974734902382\n",
      "Epoch: 90 | Loss: 0.0002319117629667744 | Test Loss: 0.0024219455663114786\n",
      "Epoch: 100 | Loss: 0.0002247332886327058 | Test Loss: 0.001732560689561069\n",
      "Epoch: 110 | Loss: 0.00021121380268596113 | Test Loss: 0.001598280156031251\n",
      "Epoch: 120 | Loss: 0.00020317219605203718 | Test Loss: 0.0014095602091401815\n",
      "Epoch: 130 | Loss: 0.0001946570846484974 | Test Loss: 0.001192434225231409\n",
      "Epoch: 140 | Loss: 0.00018660927889868617 | Test Loss: 0.0008150932262651622\n",
      "Epoch: 150 | Loss: 0.00018037791596725583 | Test Loss: 0.001029477221891284\n",
      "Epoch: 160 | Loss: 0.00017629432841204107 | Test Loss: 0.002102235797792673\n",
      "Epoch: 170 | Loss: 0.00017315216246061027 | Test Loss: 0.0019570274744182825\n",
      "Epoch: 180 | Loss: 0.0001708446943666786 | Test Loss: 0.0020821518264710903\n",
      "Epoch: 190 | Loss: 0.00016879929171409458 | Test Loss: 0.0023557681124657393\n",
      "Epoch: 200 | Loss: 0.00016686208255123347 | Test Loss: 0.0020672124810516834\n",
      "Epoch: 210 | Loss: 0.00016502798825968057 | Test Loss: 0.0017847538692876697\n",
      "Epoch: 220 | Loss: 0.00016327011690009385 | Test Loss: 0.0015947670908644795\n",
      "Epoch: 230 | Loss: 0.00016158449579961598 | Test Loss: 0.0013522319495677948\n",
      "Epoch: 240 | Loss: 0.00015997579612303525 | Test Loss: 0.0011688037775456905\n",
      "Epoch: 250 | Loss: 0.00015843339497223496 | Test Loss: 0.001023839577101171\n",
      "Epoch: 260 | Loss: 0.0001569499436300248 | Test Loss: 0.0009003144805319607\n",
      "Epoch: 270 | Loss: 0.00015552360855508596 | Test Loss: 0.0008087842143140733\n",
      "Epoch: 280 | Loss: 0.0001541393721709028 | Test Loss: 0.0007421128684654832\n",
      "Epoch: 290 | Loss: 0.00015280373918358237 | Test Loss: 0.0006990081747062504\n",
      "Epoch: 300 | Loss: 0.00015151515253819525 | Test Loss: 0.0006775681977160275\n",
      "Epoch: 310 | Loss: 0.000150259947986342 | Test Loss: 0.0006746058352291584\n",
      "Epoch: 320 | Loss: 0.00014903899864293635 | Test Loss: 0.0006870193756185472\n",
      "Epoch: 330 | Loss: 0.0001478581689298153 | Test Loss: 0.0007107648998498917\n",
      "Epoch: 340 | Loss: 0.0001467039983253926 | Test Loss: 0.000743912358302623\n",
      "Epoch: 350 | Loss: 0.00014557804388459772 | Test Loss: 0.0007812149706296623\n",
      "Epoch: 360 | Loss: 0.00014448196452576667 | Test Loss: 0.0008223131881095469\n",
      "Epoch: 370 | Loss: 0.00014341308269649744 | Test Loss: 0.0008619935833849013\n",
      "Epoch: 380 | Loss: 0.00014236074639484286 | Test Loss: 0.0009006421896629035\n",
      "Epoch: 390 | Loss: 0.00014134010416455567 | Test Loss: 0.000936568365432322\n",
      "Epoch: 400 | Loss: 0.00014033469778951257 | Test Loss: 0.000968592066783458\n",
      "Epoch: 410 | Loss: 0.00013934598246123642 | Test Loss: 0.000994709669612348\n",
      "Epoch: 420 | Loss: 0.00013838433369528502 | Test Loss: 0.0010161856189370155\n",
      "Epoch: 430 | Loss: 0.00013743669842369854 | Test Loss: 0.0010338310385122895\n",
      "Epoch: 440 | Loss: 0.0001365071366308257 | Test Loss: 0.0010463165817782283\n",
      "Epoch: 450 | Loss: 0.00013559874787461013 | Test Loss: 0.0010534749599173665\n",
      "Epoch: 460 | Loss: 0.00013469922123476863 | Test Loss: 0.0010566478595137596\n",
      "Epoch: 470 | Loss: 0.00013382043107412755 | Test Loss: 0.0010569746373221278\n",
      "Epoch: 480 | Loss: 0.00013295805547386408 | Test Loss: 0.0010526553960517049\n",
      "Epoch: 490 | Loss: 0.00013211401528678834 | Test Loss: 0.001045103999786079\n",
      "Epoch: 500 | Loss: 0.00013127303100191057 | Test Loss: 0.0010367890354245901\n",
      "Epoch: 510 | Loss: 0.00013045745436102152 | Test Loss: 0.0010257847607135773\n",
      "Epoch: 520 | Loss: 0.00012965894711669534 | Test Loss: 0.0010125035187229514\n",
      "Epoch: 530 | Loss: 0.00012886918557342142 | Test Loss: 0.0009975165594369173\n",
      "Epoch: 540 | Loss: 0.0001280962605960667 | Test Loss: 0.0009816508973017335\n",
      "Epoch: 550 | Loss: 0.00012733748008031398 | Test Loss: 0.0009646941907703876\n",
      "Epoch: 560 | Loss: 0.00012658719788305461 | Test Loss: 0.0009482717141509056\n",
      "Epoch: 570 | Loss: 0.00012585651711560786 | Test Loss: 0.000930309877730906\n",
      "Epoch: 580 | Loss: 0.00012513736146502197 | Test Loss: 0.0009129586396738887\n",
      "Epoch: 590 | Loss: 0.00012443616287782788 | Test Loss: 0.000894110940862447\n",
      "Epoch: 600 | Loss: 0.00012374206562526524 | Test Loss: 0.0008760290802456439\n",
      "Epoch: 610 | Loss: 0.00012306348071433604 | Test Loss: 0.0008586058393120766\n",
      "Epoch: 620 | Loss: 0.00012239952047821134 | Test Loss: 0.0008407345740124583\n",
      "Epoch: 630 | Loss: 0.00012174498988315463 | Test Loss: 0.0008235817076638341\n",
      "Epoch: 640 | Loss: 0.00012110840907553211 | Test Loss: 0.0008060887921601534\n",
      "Epoch: 650 | Loss: 0.00012047780910506845 | Test Loss: 0.0007891246350482106\n",
      "Epoch: 660 | Loss: 0.00011987022298853844 | Test Loss: 0.0007715295650996268\n",
      "Epoch: 670 | Loss: 0.00011926684237550944 | Test Loss: 0.000755733868572861\n",
      "Epoch: 680 | Loss: 0.00011867407010868192 | Test Loss: 0.0007399712922051549\n",
      "Epoch: 690 | Loss: 0.00011810017167590559 | Test Loss: 0.0007252093637362123\n",
      "Epoch: 700 | Loss: 0.00011753472062991932 | Test Loss: 0.0007105098338797688\n",
      "Epoch: 710 | Loss: 0.00011697849549818784 | Test Loss: 0.000696109258569777\n",
      "Epoch: 720 | Loss: 0.00011643762263702229 | Test Loss: 0.0006825344753451645\n",
      "Epoch: 730 | Loss: 0.00011590875510592014 | Test Loss: 0.0006695840856991708\n",
      "Epoch: 740 | Loss: 0.00011539027764229104 | Test Loss: 0.0006568345706909895\n",
      "Epoch: 750 | Loss: 0.00011488402378745377 | Test Loss: 0.0006448317435570061\n",
      "Epoch: 760 | Loss: 0.00011437993816798553 | Test Loss: 0.0006324059795588255\n",
      "Epoch: 770 | Loss: 0.00011389828432584181 | Test Loss: 0.0006217581103555858\n",
      "Epoch: 780 | Loss: 0.00011342026118654758 | Test Loss: 0.0006111256661824882\n",
      "Epoch: 790 | Loss: 0.00011295508011244237 | Test Loss: 0.0006004762253724039\n",
      "Epoch: 800 | Loss: 0.00011250291572650895 | Test Loss: 0.0005901557742618024\n",
      "Epoch: 810 | Loss: 0.0001120593587984331 | Test Loss: 0.0005817956989631057\n",
      "Epoch: 820 | Loss: 0.0001116217317758128 | Test Loss: 0.0005718317115679383\n",
      "Epoch: 830 | Loss: 0.00011119241389678791 | Test Loss: 0.0005631540552712977\n",
      "Epoch: 840 | Loss: 0.00011077716044383124 | Test Loss: 0.0005550069618038833\n",
      "Epoch: 850 | Loss: 0.00011037034710170701 | Test Loss: 0.0005468293675221503\n",
      "Epoch: 860 | Loss: 0.00010997639037668705 | Test Loss: 0.000539270811714232\n",
      "Epoch: 870 | Loss: 0.00010958543862216175 | Test Loss: 0.0005319330375641584\n",
      "Epoch: 880 | Loss: 0.00010920347995124757 | Test Loss: 0.0005246776854619384\n",
      "Epoch: 890 | Loss: 0.00010883309732889757 | Test Loss: 0.0005183652392588556\n",
      "Epoch: 900 | Loss: 0.00010847848898265511 | Test Loss: 0.0005120236310176551\n",
      "Epoch: 910 | Loss: 0.00010811742686200887 | Test Loss: 0.0005059561808593571\n",
      "Epoch: 920 | Loss: 0.00010776810813695192 | Test Loss: 0.0004999925731681287\n",
      "Epoch: 930 | Loss: 0.00010743160964921117 | Test Loss: 0.0004945328109897673\n",
      "Epoch: 940 | Loss: 0.00010709901107475162 | Test Loss: 0.0004894041921943426\n",
      "Epoch: 950 | Loss: 0.00010677340469555929 | Test Loss: 0.0004844211507588625\n",
      "Epoch: 960 | Loss: 0.00010646778537193313 | Test Loss: 0.0004798082518391311\n",
      "Epoch: 970 | Loss: 0.00010615753126330674 | Test Loss: 0.00047525475383736193\n",
      "Epoch: 980 | Loss: 0.0001058548514265567 | Test Loss: 0.0004710931680165231\n",
      "Epoch: 990 | Loss: 0.00010556075721979141 | Test Loss: 0.0004672659852076322\n"
     ]
    }
   ],
   "source": [
    "torch.manual_seed(42)\n",
    "torch.cuda.manual_seed(42)\n",
    "EPOCHS = 1000\n",
    "\n",
    "hist = np.zeros(EPOCHS)\n",
    "\n",
    "for epoch in range(EPOCHS):\n",
    "    model_0.train()\n",
    "\n",
    "    y_train_pred = model_0(x_train)\n",
    "    \n",
    "    loss = loss_fn(y_train, y_train_pred)\n",
    "    \n",
    "    hist[epoch] = loss.item()\n",
    "    \n",
    "    optimizer.zero_grad()\n",
    "\n",
    "    loss.backward()\n",
    "\n",
    "    optimizer.step()\n",
    "\n",
    "    model_0.eval()\n",
    "    with torch.inference_mode():\n",
    "        y_test_pred = model_0(x_test)\n",
    "        test_loss = loss_fn(y_test, y_test_pred)\n",
    "\n",
    "    if epoch % 10 == 0:\n",
    "        print(f\"Epoch: {epoch} | Loss: {loss} | Test Loss: {test_loss}\")"
   ]
  },
  {
   "cell_type": "code",
   "execution_count": 672,
   "metadata": {},
   "outputs": [
    {
     "data": {
      "text/plain": [
       "[<matplotlib.lines.Line2D at 0x7f6f8a2378c0>]"
      ]
     },
     "execution_count": 672,
     "metadata": {},
     "output_type": "execute_result"
    },
    {
     "data": {
      "image/png": "[encoded data removed]",
      "text/plain": [
       "<Figure size 640x480 with 1 Axes>"
      ]
     },
     "metadata": {},
     "output_type": "display_data"
    }
   ],
   "source": [
    "plt.plot(hist)"
   ]
  },
  {
   "cell_type": "code",
   "execution_count": 673,
   "metadata": {},
   "outputs": [
    {
     "data": {
      "text/plain": [
       "tensor(0.0005, device='cuda:0')"
      ]
     },
     "execution_count": 673,
     "metadata": {},
     "output_type": "execute_result"
    }
   ],
   "source": [
    "with torch.inference_mode():\n",
    "    y_test_pred = model_0(x_test)\n",
    "    test_loss = loss_fn(y_test, y_test_pred)\n",
    "\n",
    "y_test_pred = scaler.inverse_transform(y_test_pred.detach().cpu().numpy())\n",
    "y_test = scaler.inverse_transform(y_test.detach().cpu().numpy())\n",
    "test_loss"
   ]
  },
  {
   "cell_type": "code",
   "execution_count": 674,
   "metadata": {},
   "outputs": [
    {
     "data": {
      "text/plain": [
       "[<matplotlib.lines.Line2D at 0x7f6f8a6052b0>]"
      ]
     },
     "execution_count": 674,
     "metadata": {},
     "output_type": "execute_result"
    },
    {
     "data": {
      "image/png": "[encoded data removed]",
      "text/plain": [
       "<Figure size 640x480 with 1 Axes>"
      ]
     },
     "metadata": {},
     "output_type": "display_data"
    }
   ],
   "source": [
    "plt.plot(apple_data[len(apple_data) - len(y_test):].index, y_test)\n",
    "plt.plot(apple_data[len(apple_data) - len(y_test):].index, y_test_pred)"
   ]
  },
  {
   "cell_type": "code",
   "execution_count": 675,
   "metadata": {},
   "outputs": [
    {
     "data": {
      "text/plain": [
       "array([[-0.96649664],\n",
       "       [-0.96586688],\n",
       "       [-0.9665911 ],\n",
       "       ...,\n",
       "       [ 0.87797246],\n",
       "       [ 0.85761753],\n",
       "       [ 0.84714372]])"
      ]
     },
     "execution_count": 675,
     "metadata": {},
     "output_type": "execute_result"
    }
   ],
   "source": [
    "apple_data.values"
   ]
  },
  {
   "cell_type": "code",
   "execution_count": null,
   "metadata": {},
   "outputs": [],
   "source": []
  }
 ],
 "metadata": {
  "kernelspec": {
   "display_name": "base",
   "language": "python",
   "name": "python3"
  },
  "language_info": {
   "codemirror_mode": {
    "name": "ipython",
    "version": 3
   },
   "file_extension": ".py",
   "mimetype": "text/x-python",
   "name": "python",
   "nbconvert_exporter": "python",
   "pygments_lexer": "ipython3",
   "version": "3.12.2"
  }
 },
 "nbformat": 4,
 "nbformat_minor": 2
}
